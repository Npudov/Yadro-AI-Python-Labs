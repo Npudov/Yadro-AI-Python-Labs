{
 "cells": [
  {
   "cell_type": "markdown",
   "id": "e4d450c2",
   "metadata": {},
   "source": [
    "# Символьное дифференцирование"
   ]
  },
  {
   "cell_type": "markdown",
   "id": "ca42b161",
   "metadata": {
    "ExecuteTime": {
     "end_time": "2024-11-12T17:23:33.620558Z",
     "start_time": "2024-11-12T17:23:33.612887Z"
    }
   },
   "source": [
    "## Порядок сдачи домашнего"
   ]
  },
  {
   "cell_type": "markdown",
   "id": "1ff1df47",
   "metadata": {},
   "source": [
    "Под каждое домашнее вы создаете отдельную ветку куда вносите все изменения в рамках домашнего. Как только домашнее готово - создаете пулл реквест (обратите внимание что в пулл реквесте должны быть отражены все изменения в рамках домашнего). Ревьювера назначаете из таблицы - https://docs.google.com/spreadsheets/d/1vK6IgEqaqXniUJAQOOspiL_tx3EYTSXW1cUrMHAZFr8/edit?gid=0#gid=0\n",
    "Перед сдачей проверьте код, напишите тесты. Не забудьте про PEP8, например, с помощью flake8. Задание нужно делать в jupyter notebook.\n",
    "\n",
    "**Дедлайн - 18 ноября 10:00**"
   ]
  },
  {
   "cell_type": "markdown",
   "id": "f9fd13a2",
   "metadata": {},
   "source": [
    "Символьное дифференцирование это инструмент для автоматического вывода формул производных, который открывает возможности для анализа сложных функций, оптимизации процессов и работы с уравнениями. Мы уже на многих занятиях сталкивались с этой темой - давайте попробуем реализовать собственное!"
   ]
  },
  {
   "cell_type": "markdown",
   "id": "cf3ccecf",
   "metadata": {},
   "source": [
    "## Выражение"
   ]
  },
  {
   "cell_type": "markdown",
   "id": "096fa612",
   "metadata": {},
   "source": [
    "Создадим основной класс `Expr`, от которого будут наследоваться различные типы выражений, такие как константы, переменные, суммы, произведения и другие. Класс должен содержать методы:\n",
    "* `__call__`, который будет вычислять значение выражения, используя переданный ему контекст (словарь, связывающий имена переменных с их значениями).\n",
    "* `d`, принимающий имя переменной, по которой требуется вычислить производную, и возвращающий выражение, представляющее производную по этой переменной.\n",
    "\n",
    "Эти методы нужно будет переопределить в каждом из подклассов для корректного выполнения операций."
   ]
  },
  {
   "cell_type": "code",
   "execution_count": 2,
   "id": "7c73322e",
   "metadata": {
    "ExecuteTime": {
     "end_time": "2024-11-12T16:51:15.514301Z",
     "start_time": "2024-11-12T16:51:15.489368Z"
    },
    "tags": []
   },
   "outputs": [],
   "source": [
    "class Expr:\n",
    "    def __call__(self, **context):\n",
    "        raise NotImplementedError(\"Метод __call__ должен быть реализован в подклассе.\")\n",
    "        pass\n",
    "    \n",
    "    def d(self, wrt):\n",
    "        raise NotImplementedError(\"Метод d должен быть реализован в подклассе.\")\n",
    "        pass"
   ]
  },
  {
   "cell_type": "markdown",
   "id": "1a3f58d5",
   "metadata": {},
   "source": [
    "Создайте классы для двух видов выражений: `Const`, представляющий константу, и` Var`, представляющий переменную. Чтобы упростить использование, вместо обращения к конструкторам этих классов, будем использовать их однобуквенные сокращённые обозначения.\n",
    "\n",
    "**Пример использования:**\n",
    "```python\n",
    "V = Var\n",
    "C = Const\n",
    "\n",
    "C(5)()\n",
    "5\n",
    "C(5).d(V(\"x\"))()\n",
    "0\n",
    "V(\"x\")(x=5)\n",
    "5\n",
    "V(\"x\").d(V(\"y\"))(x=5)\n",
    "0\n",
    "V(\"x\").d(V(\"x\"))(x=5)\n",
    "1\n",
    "```"
   ]
  },
  {
   "cell_type": "code",
   "execution_count": 5,
   "id": "aa4e32b4",
   "metadata": {
    "ExecuteTime": {
     "end_time": "2024-11-12T16:42:49.906141Z",
     "start_time": "2024-11-12T16:42:49.888604Z"
    },
    "tags": []
   },
   "outputs": [],
   "source": [
    "class Const(Expr):\n",
    "    def __init__(self, value):\n",
    "        self.value = value\n",
    "    \n",
    "    def __call__(self, **context):\n",
    "        return self.value\n",
    "    \n",
    "    def d(self, wrt):\n",
    "        return Const(0)  # Производная константы всегда 0\n",
    "    pass\n",
    "\n",
    "class Var(Expr):\n",
    "    def __init__(self, name):\n",
    "        self.name = name\n",
    "    \n",
    "    def __call__(self, **context):\n",
    "        return context.get(self.name, 0)  # Возвращаем значение переменной из context или 0, если переменная не найдена\n",
    "    \n",
    "    def d(self, wrt):\n",
    "        if self.name == wrt.name:\n",
    "            return Const(1)  # Производная переменной по самой себе равна 1\n",
    "        else:\n",
    "            return Const(0)  # Производная по другой переменной равна 0\n",
    "    pass"
   ]
  },
  {
   "cell_type": "code",
   "execution_count": 7,
   "id": "bf9cd03e-5c72-4945-b117-269968ada872",
   "metadata": {
    "tags": []
   },
   "outputs": [],
   "source": [
    "V = Var\n",
    "C = Const"
   ]
  },
  {
   "cell_type": "code",
   "execution_count": 13,
   "id": "24e92d75-c6f0-4e0e-b66b-16fa1259fb80",
   "metadata": {
    "tags": []
   },
   "outputs": [
    {
     "name": "stdout",
     "output_type": "stream",
     "text": [
      "5\n",
      "0\n",
      "5\n",
      "0\n",
      "1\n"
     ]
    }
   ],
   "source": [
    "print(C(5)())\n",
    "print(C(5).d(V(\"x\"))())\n",
    "print(V(\"x\")(x=5))\n",
    "print(V(\"x\").d(V(\"y\"))(x=5))\n",
    "print(V(\"x\").d(V(\"x\"))(x=5))"
   ]
  },
  {
   "cell_type": "markdown",
   "id": "4a4c72ce",
   "metadata": {},
   "source": [
    "## Бинарные операции"
   ]
  },
  {
   "cell_type": "markdown",
   "id": "f87be166",
   "metadata": {},
   "source": [
    "Создайте классы для бинарных операций: `Sum`, `Product` и `Fraction`. Поскольку бинарные операции определяются двумя операндами, их конструктор будет одинаковым для всех этих классов. Поэтому его можно вынести в отдельный базовый класс, чтобы избежать дублирования кода."
   ]
  },
  {
   "cell_type": "code",
   "execution_count": 17,
   "id": "6aaf6b13",
   "metadata": {
    "ExecuteTime": {
     "end_time": "2024-11-12T16:51:24.856165Z",
     "start_time": "2024-11-12T16:51:24.844203Z"
    },
    "tags": []
   },
   "outputs": [],
   "source": [
    "class BinOp(Expr):\n",
    "    def __init__(self, expr1, expr2):\n",
    "        self.expr1, self.expr2 = expr1, expr2"
   ]
  },
  {
   "cell_type": "markdown",
   "id": "3e335e95",
   "metadata": {},
   "source": [
    "Реализуйте `Sum` для суммирования, `Product` для умножения и `Fraction` для деления.\n",
    "\n",
    "**Пример использования:**\n",
    "\n",
    "```python\n",
    "Sum(V(\"x\"), Fraction(V(\"x\"), V(\"y\")))(x=5, y=2.5)\n",
    "7.0\n",
    "Fraction(Sum(C(5), V(\"y\")), Product(V(\"x\"), V(\"y\")))(x=1, y=2)\n",
    "3.5\n",
    "Fraction(Sum(C(5), V(\"y\")), Product(V(\"x\"), V(\"y\"))).d(V(\"x\"))(x=1, y=2)\n",
    "-3.5\n",
    "Fraction(Sum(C(5), V(\"y\")), Product(V(\"x\"), V(\"y\"))).d(V(\"y\"))(x=1, y=2)\n",
    "-1.25\n",
    "```"
   ]
  },
  {
   "cell_type": "code",
   "execution_count": 19,
   "id": "cc5c5599",
   "metadata": {
    "tags": []
   },
   "outputs": [],
   "source": [
    "class Sum(BinOp):\n",
    "    def __call__(self, **context):\n",
    "        return self.expr1(**context) + self.expr2(**context)\n",
    "    \n",
    "    def d(self, wrt):\n",
    "        # Производная суммы: d(f + g) = f' + g'\n",
    "        return Sum(self.expr1.d(wrt), self.expr2.d(wrt))\n",
    "    pass\n",
    "\n",
    "class Product(BinOp):\n",
    "    def __call__(self, **context):\n",
    "        return self.expr1(**context) * self.expr2(**context)\n",
    "    \n",
    "    def d(self, wrt):\n",
    "        # Производная произведения: d(f * g) = f' * g + f * g'\n",
    "        return Sum(Product(self.expr1.d(wrt), self.expr2), Product(self.expr1, self.expr2.d(wrt)))\n",
    "    pass\n",
    "\n",
    "class Fraction(BinOp):\n",
    "    def __call__(self, **context):\n",
    "        return self.expr1(**context) / self.expr2(**context)\n",
    "    \n",
    "    def d(self, wrt):\n",
    "        # Производная дроби: d(f / g) = (f' * g - f * g') / g^2\n",
    "        numerator = Sum(Product(self.expr1.d(wrt), self.expr2), Product(Const(-1), Product(self.expr1, self.expr2.d(wrt)))) # числитель\n",
    "        denominator = Product(self.expr2, self.expr2) # знаменатель\n",
    "        return Fraction(numerator, denominator)\n",
    "    pass"
   ]
  },
  {
   "cell_type": "code",
   "execution_count": 21,
   "id": "9564f922-7e50-4733-853f-1f8dbad553c5",
   "metadata": {
    "tags": []
   },
   "outputs": [
    {
     "name": "stdout",
     "output_type": "stream",
     "text": [
      "7.0\n",
      "3.5\n",
      "-3.5\n",
      "-1.25\n"
     ]
    }
   ],
   "source": [
    "print(Sum(V(\"x\"), Fraction(V(\"x\"), V(\"y\")))(x=5, y=2.5))\n",
    "print(Fraction(Sum(C(5), V(\"y\")), Product(V(\"x\"), V(\"y\")))(x=1, y=2))\n",
    "print(Fraction(Sum(C(5), V(\"y\")), Product(V(\"x\"), V(\"y\"))).d(V(\"x\"))(x=1, y=2))\n",
    "print(Fraction(Sum(C(5), V(\"y\")), Product(V(\"x\"), V(\"y\"))).d(V(\"y\"))(x=1, y=2))"
   ]
  },
  {
   "cell_type": "markdown",
   "id": "68648251",
   "metadata": {},
   "source": [
    "## Перегрузка операторов"
   ]
  },
  {
   "cell_type": "markdown",
   "id": "49be6b43",
   "metadata": {
    "ExecuteTime": {
     "end_time": "2024-11-12T16:56:10.954760Z",
     "start_time": "2024-11-12T16:56:10.934054Z"
    }
   },
   "source": [
    "Добавьте перегрузку операторов в базовых класс `Expr`. Обратите что в классах мы можем тоже заменить на использование операторов.\n",
    "```python  \n",
    "-e         e.__neg__()\n",
    "+e         e.__pos__()\n",
    "e1 + e2    e1.__add__(e2)\n",
    "e1 - e2    e1.__sub__(e2)\n",
    "e1 * e2    e1.__mul__(e2)\n",
    "e1 / e2    e1.__truediv__(e2)\n",
    "```\n",
    "\n",
    "**Пример использования:**\n",
    "\n",
    "```python\n",
    "(V(\"x\") * V(\"x\") / V(\"y\"))(x=5, y=2.5)\n",
    "10.0\n",
    "```"
   ]
  },
  {
   "cell_type": "code",
   "execution_count": 35,
   "id": "9ebd77b6-2572-4747-99d7-f5d6a5a5720f",
   "metadata": {
    "tags": []
   },
   "outputs": [],
   "source": [
    "# класс с перегрузкой операторов\n",
    "class Expr:\n",
    "    def __call__(self, **context):\n",
    "        raise NotImplementedError(\"Метод __call__ должен быть реализован в подклассе.\")\n",
    "    \n",
    "    def d(self, wrt):\n",
    "        raise NotImplementedError(\"Метод d должен быть реализован в подклассе.\")\n",
    "    \n",
    "    # Перегрузка операторов\n",
    "    def __neg__(self):\n",
    "        return Product(Const(-1), self)  # -e -> (-1) * e\n",
    "    \n",
    "    def __pos__(self):\n",
    "        return self  # +e -> e\n",
    "    \n",
    "    def __add__(self, other):\n",
    "        return Sum(self, other)  # e1 + e2\n",
    "    \n",
    "    def __sub__(self, other):\n",
    "        return Sum(self, Product(Const(-1), other))  # e1 - e2 -> e1 + (-1) * e2\n",
    "    \n",
    "    def __mul__(self, other):\n",
    "        return Product(self, other)  # e1 * e2\n",
    "    \n",
    "    def __truediv__(self, other):\n",
    "        return Fraction(self, other)  # e1 / e2"
   ]
  },
  {
   "cell_type": "code",
   "execution_count": 37,
   "id": "57b7b1ad-3f27-4ae6-8bd8-5e08ddfe2bc5",
   "metadata": {
    "tags": []
   },
   "outputs": [],
   "source": [
    "class Const(Expr):\n",
    "    def __init__(self, value):\n",
    "        self.value = value\n",
    "    \n",
    "    def __call__(self, **context):\n",
    "        return self.value\n",
    "    \n",
    "    def d(self, wrt):\n",
    "        return Const(0)  # Производная константы всегда 0\n",
    "    pass\n",
    "\n",
    "class Var(Expr):\n",
    "    def __init__(self, name):\n",
    "        self.name = name\n",
    "    \n",
    "    def __call__(self, **context):\n",
    "        return context.get(self.name, 0)  # Возвращаем значение переменной из context или 0, если переменная не найдена\n",
    "    \n",
    "    def d(self, wrt):\n",
    "        if self.name == wrt.name:\n",
    "            return Const(1)  # Производная переменной по самой себе равна 1\n",
    "        else:\n",
    "            return Const(0)  # Производная по другой переменной равна 0\n",
    "    pass"
   ]
  },
  {
   "cell_type": "code",
   "execution_count": 39,
   "id": "ef39db91-3a90-427f-a517-26048b5c5b94",
   "metadata": {
    "tags": []
   },
   "outputs": [],
   "source": [
    "class BinOp(Expr):\n",
    "    def __init__(self, expr1, expr2):\n",
    "        self.expr1, self.expr2 = expr1, expr2"
   ]
  },
  {
   "cell_type": "code",
   "execution_count": 41,
   "id": "34bbe74f-f501-4ee5-905e-6d17721b3de9",
   "metadata": {
    "tags": []
   },
   "outputs": [],
   "source": [
    "class Sum(BinOp):\n",
    "    def __call__(self, **context):\n",
    "        return self.expr1(**context) + self.expr2(**context)\n",
    "    \n",
    "    def d(self, wrt):\n",
    "        # Производная суммы: d(f + g) = f' + g'\n",
    "        return Sum(self.expr1.d(wrt), self.expr2.d(wrt))\n",
    "    pass\n",
    "\n",
    "class Product(BinOp):\n",
    "    def __call__(self, **context):\n",
    "        return self.expr1(**context) * self.expr2(**context)\n",
    "    \n",
    "    def d(self, wrt):\n",
    "        # Производная произведения: d(f * g) = f' * g + f * g'\n",
    "        return Sum(Product(self.expr1.d(wrt), self.expr2), Product(self.expr1, self.expr2.d(wrt)))\n",
    "    pass\n",
    "\n",
    "class Fraction(BinOp):\n",
    "    def __call__(self, **context):\n",
    "        return self.expr1(**context) / self.expr2(**context)\n",
    "    \n",
    "    def d(self, wrt):\n",
    "        # Производная дроби: d(f / g) = (f' * g - f * g') / g^2\n",
    "        numerator = Sum(Product(self.expr1.d(wrt), self.expr2), Product(Const(-1), Product(self.expr1, self.expr2.d(wrt)))) # числитель\n",
    "        denominator = Product(self.expr2, self.expr2) # знаменатель\n",
    "        return Fraction(numerator, denominator)\n",
    "    pass"
   ]
  },
  {
   "cell_type": "code",
   "execution_count": 43,
   "id": "0a3384f2-ae48-4a3a-8fc2-f6ef1d9280ef",
   "metadata": {
    "tags": []
   },
   "outputs": [],
   "source": [
    "V = Var\n",
    "C = Const"
   ]
  },
  {
   "cell_type": "code",
   "execution_count": 45,
   "id": "51a737c1-d5d9-4181-91d3-0270f1607f07",
   "metadata": {
    "tags": []
   },
   "outputs": [
    {
     "name": "stdout",
     "output_type": "stream",
     "text": [
      "10.0\n"
     ]
    }
   ],
   "source": [
    "print((V(\"x\") * V(\"x\") / V(\"y\"))(x=5, y=2.5))"
   ]
  },
  {
   "cell_type": "markdown",
   "id": "d8c4e847",
   "metadata": {
    "ExecuteTime": {
     "end_time": "2024-11-12T17:15:20.644716Z",
     "start_time": "2024-11-12T17:15:20.631450Z"
    }
   },
   "source": [
    "## Метод Ньютона-Рафсона"
   ]
  },
  {
   "cell_type": "markdown",
   "id": "c2ff4b5b",
   "metadata": {},
   "source": [
    "Напишите функцию `newton_raphson`, которая принимает дифференцируемую функцию  $f$  от переменной  $x$ , начальное приближение  $x_0$ , и положительное число  $\\epsilon$ , задающее точность вычислений. Функция должна возвращать значение  $x$ , при котором  $f(x)$  становится равным нулю. Метод Ньютона-Рафсона выполняет итеративный поиск корня функции  $f(x)$ , начиная с начального значения  $x_0$ , и использует правило  \n",
    "$$x_{n+1} = x_n - \\frac{f(x_n)}{f{\\prime}(x_n)}$$  \n",
    "для обновления  $x$  на каждом шаге. Итерации продолжаются до тех пор, пока условие остановки  $|x_{n+1} - x_n| \\leq \\epsilon$  не будет выполнено.\n",
    "\n",
    "**Пример использования:**\n",
    "\n",
    "```python\n",
    "x = Var(\"x\")\n",
    "f = Const(-5) * x * x * x * x * x + Const(3) * x + Const(2)\n",
    "zero = newton_raphson(f, 0.5, eps=1e-4)\n",
    "zero, f(x=zero)\n",
    "(1.000000000001132, -2.490496697760136e-11)\n",
    "```"
   ]
  },
  {
   "cell_type": "code",
   "execution_count": 48,
   "id": "5e185229",
   "metadata": {
    "tags": []
   },
   "outputs": [],
   "source": [
    "def newton_raphson(expr, x0, eps=1e-4):\n",
    "    x_n = x0\n",
    "    while True:\n",
    "        # Вычисляем f(x_n) и f'(x_n)\n",
    "        f_xn = expr(x=x_n)\n",
    "        f_prime_xn = expr.d(Var(\"x\"))(x=x_n)\n",
    "        \n",
    "        # Проверяем, чтобы производная не была равна нулю (деление на ноль невозможно)\n",
    "        if f_prime_xn == 0:\n",
    "            raise ValueError(\"Производная равна нулю, метод Ньютона-Рафсона не применим.\")\n",
    "        \n",
    "        # Обновляем x по формуле метода Ньютона-Рафсона\n",
    "        x_next = x_n - f_xn / f_prime_xn\n",
    "        \n",
    "        # Условие выхода: если разница между текущим и следующим значением меньше eps\n",
    "        if abs(x_next - x_n) <= eps:\n",
    "            return x_next\n",
    "        \n",
    "        # Переход к следующей итерации\n",
    "        x_n = x_next\n",
    "    pass"
   ]
  },
  {
   "cell_type": "code",
   "execution_count": 50,
   "id": "e83c6106-ee7b-4186-bd30-6c884dd1237b",
   "metadata": {
    "tags": []
   },
   "outputs": [
    {
     "name": "stdout",
     "output_type": "stream",
     "text": [
      "1.0000000000000653 -1.4384049507043528e-12\n"
     ]
    }
   ],
   "source": [
    "x = Var(\"x\")\n",
    "f = Const(-5) * x * x * x * x * x + Const(3) * x + Const(2)\n",
    "zero = newton_raphson(f, 0.5, eps=1e-4)\n",
    "print(zero, f(x=zero))"
   ]
  },
  {
   "cell_type": "code",
   "execution_count": null,
   "id": "edd0233c-b52a-486d-940d-c97ba96197c3",
   "metadata": {},
   "outputs": [],
   "source": []
  }
 ],
 "metadata": {
  "kernelspec": {
   "display_name": "Python 3 (ipykernel)",
   "language": "python",
   "name": "python3"
  },
  "language_info": {
   "codemirror_mode": {
    "name": "ipython",
    "version": 3
   },
   "file_extension": ".py",
   "mimetype": "text/x-python",
   "name": "python",
   "nbconvert_exporter": "python",
   "pygments_lexer": "ipython3",
   "version": "3.10.14"
  }
 },
 "nbformat": 4,
 "nbformat_minor": 5
}
