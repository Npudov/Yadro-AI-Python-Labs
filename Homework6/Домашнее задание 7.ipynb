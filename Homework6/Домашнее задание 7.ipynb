{
 "cells": [
  {
   "cell_type": "markdown",
   "id": "b7f85915",
   "metadata": {},
   "source": [
    "# Работа с ресурсами"
   ]
  },
  {
   "cell_type": "markdown",
   "id": "9c7c136e",
   "metadata": {},
   "source": [
    "## Порядок сдачи домашнего"
   ]
  },
  {
   "cell_type": "markdown",
   "id": "0799026a",
   "metadata": {
    "ExecuteTime": {
     "end_time": "2024-11-03T13:23:48.609956Z",
     "start_time": "2024-11-03T13:23:48.581564Z"
    }
   },
   "source": [
    "Под каждое домашнее вы создаете отдельную ветку куда вносите все изменения в рамках домашнего. Как только домашнее готово - создаете пулл реквест (обратите внимание что в пулл реквесте должны быть отражены все изменения в рамках домашнего). Ревьювера назначаете из таблицы - https://docs.google.com/spreadsheets/d/1vK6IgEqaqXniUJAQOOspiL_tx3EYTSXW1cUrMHAZFr8/edit?gid=0#gid=0\n",
    "Перед сдачей проверьте код, напишите тесты. Не забудьте про PEP8, например, с помощью flake8. Задание нужно делать в jupyter notebook.\n",
    "\n",
    "**Дедлайн - 14 ноября 10:00**"
   ]
  },
  {
   "cell_type": "markdown",
   "id": "39ca02a1",
   "metadata": {},
   "source": [
    "# Менеджер контекста для смены директории (cd)"
   ]
  },
  {
   "cell_type": "markdown",
   "id": "eead1ca2",
   "metadata": {},
   "source": [
    "Напишите класс менеджера контекста ChangeDir, который временно меняет текущую рабочую директорию на заданную. После выхода из контекста рабочая директория должна вернуться к предыдущей.\n",
    "\n",
    "**Условия:**\n",
    "1.\tПри входе в блок with менеджер контекста должен изменить текущую директорию на указанную.\n",
    "2.\tПри выходе из блока with менеджер контекста должен вернуть рабочую директорию на исходное значение.\n",
    "3.\tОбработайте ситуацию, когда указанный путь не существует, с выводом сообщения об ошибке.\n",
    "\n",
    "**Пример:**\n",
    "\n",
    "```python\n",
    "import os\n",
    "\n",
    "print(\"Начальная директория:\", os.getcwd())\n",
    "\n",
    "with ChangeDir(\"/path/to/new/directory\"):\n",
    "    print(\"Внутри менеджера:\", os.getcwd())\n",
    "\n",
    "print(\"После выхода:\", os.getcwd())\n",
    "```"
   ]
  },
  {
   "cell_type": "code",
   "execution_count": 3,
   "id": "239b51fd",
   "metadata": {},
   "outputs": [],
   "source": [
    "import os\n",
    "\n",
    "class ChangeDir:\n",
    "    def __init__(self, new_path):\n",
    "        self.new_path = new_path\n",
    "        self.saved_path = None\n",
    "    \n",
    "    def __enter__(self):\n",
    "        # Сохраняем текущую директорию\n",
    "        self.saved_path = os.getcwd()\n",
    "        # Проверяем, существует ли новая директория\n",
    "        if not os.path.isdir(self.new_path):\n",
    "            raise FileNotFoundError(f\"Директория '{self.new_path}' не найдена.\")\n",
    "        # Переходим в новую директорию\n",
    "        os.chdir(self.new_path)\n",
    "        return self\n",
    "    \n",
    "    def __exit__(self, exp_type, exp_value, traceback):\n",
    "        # Возвращаемся к исходной директории\n",
    "        os.chdir(self.saved_path)\n",
    "        \n",
    "    pass"
   ]
  },
  {
   "cell_type": "code",
   "execution_count": 5,
   "id": "132aaefc-ae48-4960-914a-b596c40c49b9",
   "metadata": {
    "tags": []
   },
   "outputs": [
    {
     "name": "stdout",
     "output_type": "stream",
     "text": [
      "Начальная директория: D:\\Yadro AI School\\Python for ML\\HW\\HW 6\\Домашнее задание\n",
      "Директория '/path/to/new/directory' не найдена.\n",
      "После выхода: D:\\Yadro AI School\\Python for ML\\HW\\HW 6\\Домашнее задание\n"
     ]
    }
   ],
   "source": [
    "print(\"Начальная директория:\", os.getcwd())\n",
    "\n",
    "try:\n",
    "    with ChangeDir(\"/path/to/new/directory\"):\n",
    "        print(\"Внутри менеджера:\", os.getcwd())\n",
    "except FileNotFoundError as e:\n",
    "    print(e)\n",
    "\n",
    "print(\"После выхода:\", os.getcwd())"
   ]
  },
  {
   "cell_type": "markdown",
   "id": "5addad6c",
   "metadata": {},
   "source": [
    "# Перенаправления вывода в файл"
   ]
  },
  {
   "cell_type": "markdown",
   "id": "4c199e6e",
   "metadata": {},
   "source": [
    "Напишите класс менеджера контекста RedirectOutput, который временно перенаправляет стандартный поток вывода stdout в указанный файл. После выхода из контекста вывод должен возвращаться в стандартный поток.\n",
    "\n",
    "**Условия:**\n",
    "\n",
    "1.\tПри входе в блок with менеджер контекста должен перенаправить вывод print в файл, указанный при создании объекта.\n",
    "2.\tПри выходе из блока with вывод должен возвращаться в стандартный поток.\n",
    "3.\tЕсли файл уже существует, вывод должен дописываться к нему, а не перезаписывать его.\n",
    "\n",
    "**Пример:**\n",
    "```python\n",
    "print(\"Это стандартный вывод\")  # Должно выводиться в консоль\n",
    "\n",
    "with RedirectOutput(\"output.txt\"):\n",
    "    print(\"Это вывод в файл\")   # Должно записываться в файл \"output.txt\"\n",
    "\n",
    "print(\"Снова стандартный вывод\")  # Должно выводиться в консоль\n",
    "```\n"
   ]
  },
  {
   "cell_type": "code",
   "execution_count": null,
   "id": "81acc7b5",
   "metadata": {},
   "outputs": [],
   "source": [
    "#self.file = open(self.filename, 'a')\n",
    "#sys.stdout = self.file  # Перенаправляем stdout в файл"
   ]
  },
  {
   "cell_type": "code",
   "execution_count": 21,
   "id": "abf13f3f",
   "metadata": {},
   "outputs": [],
   "source": [
    "import sys\n",
    "\n",
    "class RedirectOutput:\n",
    "    def __init__(self, filename):\n",
    "        self.filename = filename\n",
    "        self.file = None\n",
    "        self._original_stdout = sys.stdout\n",
    "    \n",
    "    def __enter__(self):\n",
    "        # Открываем файл в режиме добавления\n",
    "        self.file = open(self.filename, 'a')\n",
    "        # Перенаправляем stdout в файл\n",
    "        sys.stdout = self.file\n",
    "        return self\n",
    "    \n",
    "    def __exit__(self, exp_type, exp_value, traceback):\n",
    "        # Возвращаем stdout на стандартный поток\n",
    "        sys.stdout = self._original_stdout\n",
    "        if self.file:\n",
    "            self.file.close()\n",
    "    pass"
   ]
  },
  {
   "cell_type": "code",
   "execution_count": 23,
   "id": "5dce20be-0486-4c61-8ee1-7a7b4dbabf67",
   "metadata": {
    "tags": []
   },
   "outputs": [
    {
     "name": "stdout",
     "output_type": "stream",
     "text": [
      "Это стандартный вывод\n",
      "Снова стандартный вывод\n"
     ]
    }
   ],
   "source": [
    "# Пример использования\n",
    "print(\"Это стандартный вывод\")  # Должно выводиться в консоль\n",
    "\n",
    "with RedirectOutput(\"output.txt\"):\n",
    "    print(\"Это вывод в файл\")   # Должно записываться в файл \"output.txt\"\n",
    "\n",
    "print(\"Снова стандартный вывод\")  # Должно выводиться в консоль"
   ]
  },
  {
   "cell_type": "markdown",
   "id": "5521fc72",
   "metadata": {},
   "source": [
    "# Замер времени выполнения кода"
   ]
  },
  {
   "cell_type": "markdown",
   "id": "dcdd1880",
   "metadata": {
    "ExecuteTime": {
     "end_time": "2024-10-31T14:19:37.856022Z",
     "start_time": "2024-10-31T14:19:37.835554Z"
    }
   },
   "source": [
    "Напишите класс менеджера контекста Timer, который замеряет время выполнения кода внутри блока with. Менеджер должен выводить время выполнения в консоль по завершении блока. Для замера времени используйте модуль time.\n",
    "\n",
    "**Условия:**\n",
    "1. При входе в блок with менеджер контекста должен начинать отсчёт времени.\n",
    "2. При выходе из блока with менеджер должен выводить в консоль время выполнения кода внутри блока в формате \"Время выполнения: X.XXX секунд\".\n",
    "3. Опционально: добавить возможность передавать имя таймера при инициализации, чтобы можно было различать результаты замеров, если их несколько.\n",
    "\n",
    "**Пример:**\n",
    "```python\n",
    "import time\n",
    "\n",
    "with Timer(\"Задача 1\"):\n",
    "    time.sleep(1)  # Симуляция работы кода\n",
    "[Задача 1] Время выполнения: 1.001 секунд\n",
    "    \n",
    "with Timer(\"Задача 2\"):\n",
    "    for i in range(1000000):\n",
    "        pass\n",
    "[Задача 2] Время выполнения: 0.034 секунд\n",
    "```"
   ]
  },
  {
   "cell_type": "code",
   "execution_count": 29,
   "id": "0034913b",
   "metadata": {},
   "outputs": [],
   "source": [
    "import time\n",
    "\n",
    "class Timer:\n",
    "    def __init__(self, task=None):\n",
    "        self.task = task\n",
    "        self.start_time = None\n",
    "        \n",
    "    def __enter__(self):\n",
    "        self.start_time = time.time()\n",
    "        return self\n",
    "    \n",
    "    def __exit__(self, exp_type, exp_value, traceback):\n",
    "        end_time = time.time() - self.start_time\n",
    "        if self.task:\n",
    "            print(f\"[{self.task}] Время выполнения: {end_time:.3f} секунд\")\n",
    "        else:\n",
    "            print(f\"Время выполнения: {end_time:.3f} секунд\")\n",
    "        \n",
    "    pass"
   ]
  },
  {
   "cell_type": "code",
   "execution_count": 31,
   "id": "afa3acbb-c5c8-41b5-8b2b-772077b30235",
   "metadata": {
    "tags": []
   },
   "outputs": [
    {
     "name": "stdout",
     "output_type": "stream",
     "text": [
      "[Задача 1] Время выполнения: 1.004 секунд\n",
      "[Задача 2] Время выполнения: 0.023 секунд\n"
     ]
    }
   ],
   "source": [
    "# Пример использования\n",
    "with Timer(\"Задача 1\"):\n",
    "    time.sleep(1)  # Симуляция работы кода\n",
    "\n",
    "with Timer(\"Задача 2\"):\n",
    "    for i in range(1000000):\n",
    "        pass"
   ]
  },
  {
   "cell_type": "markdown",
   "id": "ef8887ce",
   "metadata": {},
   "source": [
    "# Поглощение исключения"
   ]
  },
  {
   "cell_type": "markdown",
   "id": "f02320f4",
   "metadata": {},
   "source": [
    "Напишите класс менеджера контекста SuppressExceptions, который подавляет указанные исключения внутри блока with, не прерывая выполнение программы. Если в блоке возникает исключение, которое не входит в список подавляемых, оно должно быть выброшено обычным образом.\n",
    "\n",
    "**Условия:**\n",
    "1.\tПри инициализации менеджера контекста нужно передавать типы исключений, которые будут подавляться.\n",
    "2.\tЕсли в блоке with возникает исключение из списка подавляемых, оно должно игнорироваться.\n",
    "3.\tЕсли возникает исключение, не входящее в список, оно должно быть выброшено.\n",
    "4.\tОпционально: после подавления исключения вывести сообщение о том, какое исключение было подавлено.\n",
    "\n",
    "\n",
    "**Пример:**\n",
    "```python\n",
    "with SuppressExceptions(ZeroDivisionError, ValueError):\n",
    "    print(1 / 0)  # Это исключение будет подавлено\n",
    "\n",
    "with SuppressExceptions(TypeError):\n",
    "    print(1 + \"2\")  # Это исключение будет подавлено\n",
    "\n",
    "with SuppressExceptions(IndexError):\n",
    "    print([1, 2, 3][5])  # Это исключение будет подавлено\n",
    "\n",
    "print(\"Программа продолжает работать после блока with\")\n",
    "```"
   ]
  },
  {
   "cell_type": "code",
   "execution_count": 33,
   "id": "3603cdfd",
   "metadata": {},
   "outputs": [],
   "source": [
    "class SuppressExceptions:\n",
    "    def __init__(self, *exceptions):\n",
    "        # Принимаем типы исключений, которые нужно подавить\n",
    "        self.exceptions = exceptions\n",
    "\n",
    "    def __enter__(self):\n",
    "        # Ничего не делаем при входе в контекст\n",
    "        return self\n",
    "\n",
    "    def __exit__(self, exc_type, exc_value, traceback):\n",
    "        # Проверяем, возникло ли исключение и входит ли его тип в подавляемые\n",
    "        if exc_type and issubclass(exc_type, self.exceptions):\n",
    "            print(f\"Подавлено исключение: {exc_type.__name__} - {exc_value}\")\n",
    "            return True  # Подавляем исключение, возвращая True\n",
    "        return False  # Не подавляем другие исключения\n",
    "    pass"
   ]
  },
  {
   "cell_type": "code",
   "execution_count": 35,
   "id": "23e46aec-1573-4163-9a4e-3b6431c83480",
   "metadata": {
    "tags": []
   },
   "outputs": [
    {
     "name": "stdout",
     "output_type": "stream",
     "text": [
      "Подавлено исключение: ZeroDivisionError - division by zero\n",
      "Подавлено исключение: TypeError - unsupported operand type(s) for +: 'int' and 'str'\n",
      "Подавлено исключение: IndexError - list index out of range\n",
      "Программа продолжает работать после блока with\n"
     ]
    }
   ],
   "source": [
    "# Пример использования\n",
    "with SuppressExceptions(ZeroDivisionError, ValueError):\n",
    "    print(1 / 0)  # Это исключение будет подавлено\n",
    "\n",
    "with SuppressExceptions(TypeError):\n",
    "    print(1 + \"2\")  # Это исключение будет подавлено\n",
    "\n",
    "with SuppressExceptions(IndexError):\n",
    "    print([1, 2, 3][5])  # Это исключение будет подавлено\n",
    "\n",
    "print(\"Программа продолжает работать после блока with\")"
   ]
  },
  {
   "cell_type": "markdown",
   "id": "7936b581",
   "metadata": {},
   "source": [
    "# Создание временного файла\n",
    "Напишите класс менеджера контекста TemporaryFile, который создаёт временный файл при входе в контекст и автоматически удаляет его при выходе. Менеджер должен позволять записывать и читать данные из файла в течение его существования в контексте.\n",
    "\n",
    "**Условия:**\n",
    "1.\tПри входе в блок with менеджер должен создавать временный файл и возвращать его объект для записи и чтения.\n",
    "2.\tПри выходе из блока with временный файл должен автоматически удаляться.\n",
    "3.\tИмя файла должно быть уникальным и генерироваться автоматически.\n",
    "\n",
    "**Пример**\n",
    "```python\n",
    "with TemporaryFile() as temp_file:\n",
    "    temp_file.write(b\"Временные данные\\n\")  # Записываем данные\n",
    "    temp_file.seek(0)  # Возвращаемся в начало файла\n",
    "    print(temp_file.read())  # Читаем данные из временного файла\n",
    "\n",
    "print(\"Файл автоматически удалён\")\n",
    "```"
   ]
  },
  {
   "cell_type": "code",
   "execution_count": 73,
   "id": "0c7aacf0",
   "metadata": {},
   "outputs": [],
   "source": [
    "import os\n",
    "import time\n",
    "import random\n",
    "import tempfile\n",
    "\n",
    "class TemporaryFile:\n",
    "    def __init__(self):\n",
    "        self.file = None\n",
    "\n",
    "    def __enter__(self):\n",
    "        # Создаем временный файл в бинарном режиме записи и чтения\n",
    "        self.file = tempfile.NamedTemporaryFile(mode=\"w+\", delete=False, encoding='utf-8')\n",
    "        return self.file\n",
    "\n",
    "    def __exit__(self, exc_type, exc_value, traceback):\n",
    "        # Закрываем файл и удаляем его\n",
    "        try:\n",
    "            self.file.close()  # Закрываем файл, если он ещё открыт\n",
    "            os.remove(self.file.name)  # Удаляем файл из системы\n",
    "        except Exception as e:\n",
    "            print(f\"Ошибка при удалении временного файла: {e}\")\n",
    "    \n",
    "    pass"
   ]
  },
  {
   "cell_type": "code",
   "execution_count": 75,
   "id": "1f553b87-6470-4d26-be7e-7cf4c6b6d381",
   "metadata": {
    "tags": []
   },
   "outputs": [
    {
     "name": "stdout",
     "output_type": "stream",
     "text": [
      "Временные данные\n",
      "\n",
      "Файл автоматически удалён\n"
     ]
    }
   ],
   "source": [
    "# Пример использования\n",
    "with TemporaryFile() as temp_file:\n",
    "    temp_file.write(\"Временные данные\\n\")  # Записываем данные\n",
    "    temp_file.seek(0)  # Возвращаемся в начало файла\n",
    "    print(temp_file.read())  # Читаем данные из временного файла\n",
    "\n",
    "print(\"Файл автоматически удалён\")"
   ]
  },
  {
   "cell_type": "code",
   "execution_count": null,
   "id": "c6d8d82a-2cb2-4e48-82c4-6f4c11952e22",
   "metadata": {},
   "outputs": [],
   "source": []
  }
 ],
 "metadata": {
  "kernelspec": {
   "display_name": "Python 3 (ipykernel)",
   "language": "python",
   "name": "python3"
  },
  "language_info": {
   "codemirror_mode": {
    "name": "ipython",
    "version": 3
   },
   "file_extension": ".py",
   "mimetype": "text/x-python",
   "name": "python",
   "nbconvert_exporter": "python",
   "pygments_lexer": "ipython3",
   "version": "3.10.14"
  }
 },
 "nbformat": 4,
 "nbformat_minor": 5
}
